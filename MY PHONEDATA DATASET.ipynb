{
 "cells": [
  {
   "cell_type": "markdown",
   "id": "8186030f",
   "metadata": {},
   "source": [
    "# MY PHONEDATA DATASET\n",
    "Use the association rules on my_phonedata dataset to understand the business problem and provide solutions."
   ]
  },
  {
   "cell_type": "markdown",
   "id": "084b11d3",
   "metadata": {},
   "source": [
    "## BUSINESS OBJECTIVE\n",
    "* Maximize profit\n",
    "* Maximize performance \n",
    "* Minimize loss"
   ]
  },
  {
   "cell_type": "markdown",
   "id": "1b73e93a",
   "metadata": {},
   "source": [
    "## CONSTRAINTS\n",
    "* Constantly changing business\n",
    "* Very High Competition"
   ]
  },
  {
   "cell_type": "markdown",
   "id": "489e471c",
   "metadata": {},
   "source": [
    "Importing the required libraries"
   ]
  },
  {
   "cell_type": "code",
   "execution_count": 1,
   "id": "5105ca17",
   "metadata": {},
   "outputs": [],
   "source": [
    "import pandas as pd\n",
    "from mlxtend.frequent_patterns import apriori , association_rules\n",
    "from termcolor import colored"
   ]
  },
  {
   "cell_type": "markdown",
   "id": "f77d4968",
   "metadata": {},
   "source": [
    "Loading the dataset"
   ]
  },
  {
   "cell_type": "code",
   "execution_count": 2,
   "id": "983ba096",
   "metadata": {},
   "outputs": [
    {
     "data": {
      "text/html": [
       "<div>\n",
       "<style scoped>\n",
       "    .dataframe tbody tr th:only-of-type {\n",
       "        vertical-align: middle;\n",
       "    }\n",
       "\n",
       "    .dataframe tbody tr th {\n",
       "        vertical-align: top;\n",
       "    }\n",
       "\n",
       "    .dataframe thead th {\n",
       "        text-align: right;\n",
       "    }\n",
       "</style>\n",
       "<table border=\"1\" class=\"dataframe\">\n",
       "  <thead>\n",
       "    <tr style=\"text-align: right;\">\n",
       "      <th></th>\n",
       "      <th>V1</th>\n",
       "      <th>V2</th>\n",
       "      <th>V3</th>\n",
       "      <th>red</th>\n",
       "      <th>white</th>\n",
       "      <th>green</th>\n",
       "      <th>yellow</th>\n",
       "      <th>orange</th>\n",
       "      <th>blue</th>\n",
       "    </tr>\n",
       "  </thead>\n",
       "  <tbody>\n",
       "    <tr>\n",
       "      <th>0</th>\n",
       "      <td>red</td>\n",
       "      <td>white</td>\n",
       "      <td>green</td>\n",
       "      <td>1</td>\n",
       "      <td>1</td>\n",
       "      <td>1</td>\n",
       "      <td>0</td>\n",
       "      <td>0</td>\n",
       "      <td>0</td>\n",
       "    </tr>\n",
       "    <tr>\n",
       "      <th>1</th>\n",
       "      <td>white</td>\n",
       "      <td>orange</td>\n",
       "      <td>NaN</td>\n",
       "      <td>0</td>\n",
       "      <td>1</td>\n",
       "      <td>0</td>\n",
       "      <td>0</td>\n",
       "      <td>1</td>\n",
       "      <td>0</td>\n",
       "    </tr>\n",
       "    <tr>\n",
       "      <th>2</th>\n",
       "      <td>white</td>\n",
       "      <td>blue</td>\n",
       "      <td>NaN</td>\n",
       "      <td>0</td>\n",
       "      <td>1</td>\n",
       "      <td>0</td>\n",
       "      <td>0</td>\n",
       "      <td>0</td>\n",
       "      <td>1</td>\n",
       "    </tr>\n",
       "    <tr>\n",
       "      <th>3</th>\n",
       "      <td>red</td>\n",
       "      <td>white</td>\n",
       "      <td>orange</td>\n",
       "      <td>1</td>\n",
       "      <td>1</td>\n",
       "      <td>0</td>\n",
       "      <td>0</td>\n",
       "      <td>1</td>\n",
       "      <td>0</td>\n",
       "    </tr>\n",
       "    <tr>\n",
       "      <th>4</th>\n",
       "      <td>red</td>\n",
       "      <td>blue</td>\n",
       "      <td>NaN</td>\n",
       "      <td>1</td>\n",
       "      <td>0</td>\n",
       "      <td>0</td>\n",
       "      <td>0</td>\n",
       "      <td>0</td>\n",
       "      <td>1</td>\n",
       "    </tr>\n",
       "  </tbody>\n",
       "</table>\n",
       "</div>"
      ],
      "text/plain": [
       "      V1      V2      V3  red  white  green  yellow  orange  blue\n",
       "0    red   white   green    1      1      1       0       0     0\n",
       "1  white  orange     NaN    0      1      0       0       1     0\n",
       "2  white    blue     NaN    0      1      0       0       0     1\n",
       "3    red   white  orange    1      1      0       0       1     0\n",
       "4    red    blue     NaN    1      0      0       0       0     1"
      ]
     },
     "execution_count": 2,
     "metadata": {},
     "output_type": "execute_result"
    }
   ],
   "source": [
    "df0=pd.read_csv(r\"D:\\360Digitmg\\ASSIGNMENTS\\Ass9\\myphonedata.csv\")\n",
    "df=df0.copy()\n",
    "df.head()"
   ]
  },
  {
   "cell_type": "code",
   "execution_count": 3,
   "id": "b494325b",
   "metadata": {},
   "outputs": [
    {
     "data": {
      "text/html": [
       "<div>\n",
       "<style scoped>\n",
       "    .dataframe tbody tr th:only-of-type {\n",
       "        vertical-align: middle;\n",
       "    }\n",
       "\n",
       "    .dataframe tbody tr th {\n",
       "        vertical-align: top;\n",
       "    }\n",
       "\n",
       "    .dataframe thead th {\n",
       "        text-align: right;\n",
       "    }\n",
       "</style>\n",
       "<table border=\"1\" class=\"dataframe\">\n",
       "  <thead>\n",
       "    <tr style=\"text-align: right;\">\n",
       "      <th></th>\n",
       "      <th>red</th>\n",
       "      <th>white</th>\n",
       "      <th>green</th>\n",
       "      <th>yellow</th>\n",
       "      <th>orange</th>\n",
       "      <th>blue</th>\n",
       "    </tr>\n",
       "  </thead>\n",
       "  <tbody>\n",
       "    <tr>\n",
       "      <th>0</th>\n",
       "      <td>1</td>\n",
       "      <td>1</td>\n",
       "      <td>1</td>\n",
       "      <td>0</td>\n",
       "      <td>0</td>\n",
       "      <td>0</td>\n",
       "    </tr>\n",
       "    <tr>\n",
       "      <th>1</th>\n",
       "      <td>0</td>\n",
       "      <td>1</td>\n",
       "      <td>0</td>\n",
       "      <td>0</td>\n",
       "      <td>1</td>\n",
       "      <td>0</td>\n",
       "    </tr>\n",
       "    <tr>\n",
       "      <th>2</th>\n",
       "      <td>0</td>\n",
       "      <td>1</td>\n",
       "      <td>0</td>\n",
       "      <td>0</td>\n",
       "      <td>0</td>\n",
       "      <td>1</td>\n",
       "    </tr>\n",
       "    <tr>\n",
       "      <th>3</th>\n",
       "      <td>1</td>\n",
       "      <td>1</td>\n",
       "      <td>0</td>\n",
       "      <td>0</td>\n",
       "      <td>1</td>\n",
       "      <td>0</td>\n",
       "    </tr>\n",
       "    <tr>\n",
       "      <th>4</th>\n",
       "      <td>1</td>\n",
       "      <td>0</td>\n",
       "      <td>0</td>\n",
       "      <td>0</td>\n",
       "      <td>0</td>\n",
       "      <td>1</td>\n",
       "    </tr>\n",
       "  </tbody>\n",
       "</table>\n",
       "</div>"
      ],
      "text/plain": [
       "   red  white  green  yellow  orange  blue\n",
       "0    1      1      1       0       0     0\n",
       "1    0      1      0       0       1     0\n",
       "2    0      1      0       0       0     1\n",
       "3    1      1      0       0       1     0\n",
       "4    1      0      0       0       0     1"
      ]
     },
     "execution_count": 3,
     "metadata": {},
     "output_type": "execute_result"
    }
   ],
   "source": [
    "df.drop(['V1','V2','V3'],axis=1,inplace=True)\n",
    "df.head()"
   ]
  },
  {
   "cell_type": "markdown",
   "id": "dbe98f78",
   "metadata": {},
   "source": [
    "## EXPLORATORY DATA ANALYSIS\n",
    "The below lines gives a very basic understanding of the dataset"
   ]
  },
  {
   "cell_type": "code",
   "execution_count": 4,
   "id": "86df201a",
   "metadata": {},
   "outputs": [
    {
     "name": "stdout",
     "output_type": "stream",
     "text": [
      "<class 'pandas.core.frame.DataFrame'>\n",
      "RangeIndex: 11 entries, 0 to 10\n",
      "Data columns (total 6 columns):\n",
      " #   Column  Non-Null Count  Dtype\n",
      "---  ------  --------------  -----\n",
      " 0   red     11 non-null     int64\n",
      " 1   white   11 non-null     int64\n",
      " 2   green   11 non-null     int64\n",
      " 3   yellow  11 non-null     int64\n",
      " 4   orange  11 non-null     int64\n",
      " 5   blue    11 non-null     int64\n",
      "dtypes: int64(6)\n",
      "memory usage: 656.0 bytes\n"
     ]
    }
   ],
   "source": [
    "df.info()"
   ]
  },
  {
   "cell_type": "code",
   "execution_count": 5,
   "id": "5f6228c0",
   "metadata": {},
   "outputs": [
    {
     "data": {
      "text/html": [
       "<div>\n",
       "<style scoped>\n",
       "    .dataframe tbody tr th:only-of-type {\n",
       "        vertical-align: middle;\n",
       "    }\n",
       "\n",
       "    .dataframe tbody tr th {\n",
       "        vertical-align: top;\n",
       "    }\n",
       "\n",
       "    .dataframe thead th {\n",
       "        text-align: right;\n",
       "    }\n",
       "</style>\n",
       "<table border=\"1\" class=\"dataframe\">\n",
       "  <thead>\n",
       "    <tr style=\"text-align: right;\">\n",
       "      <th></th>\n",
       "      <th>red</th>\n",
       "      <th>white</th>\n",
       "      <th>green</th>\n",
       "      <th>yellow</th>\n",
       "      <th>orange</th>\n",
       "      <th>blue</th>\n",
       "    </tr>\n",
       "  </thead>\n",
       "  <tbody>\n",
       "    <tr>\n",
       "      <th>count</th>\n",
       "      <td>11.000000</td>\n",
       "      <td>11.000000</td>\n",
       "      <td>11.000000</td>\n",
       "      <td>11.000000</td>\n",
       "      <td>11.000000</td>\n",
       "      <td>11.000000</td>\n",
       "    </tr>\n",
       "    <tr>\n",
       "      <th>mean</th>\n",
       "      <td>0.545455</td>\n",
       "      <td>0.636364</td>\n",
       "      <td>0.181818</td>\n",
       "      <td>0.090909</td>\n",
       "      <td>0.181818</td>\n",
       "      <td>0.545455</td>\n",
       "    </tr>\n",
       "    <tr>\n",
       "      <th>std</th>\n",
       "      <td>0.522233</td>\n",
       "      <td>0.504525</td>\n",
       "      <td>0.404520</td>\n",
       "      <td>0.301511</td>\n",
       "      <td>0.404520</td>\n",
       "      <td>0.522233</td>\n",
       "    </tr>\n",
       "    <tr>\n",
       "      <th>min</th>\n",
       "      <td>0.000000</td>\n",
       "      <td>0.000000</td>\n",
       "      <td>0.000000</td>\n",
       "      <td>0.000000</td>\n",
       "      <td>0.000000</td>\n",
       "      <td>0.000000</td>\n",
       "    </tr>\n",
       "    <tr>\n",
       "      <th>25%</th>\n",
       "      <td>0.000000</td>\n",
       "      <td>0.000000</td>\n",
       "      <td>0.000000</td>\n",
       "      <td>0.000000</td>\n",
       "      <td>0.000000</td>\n",
       "      <td>0.000000</td>\n",
       "    </tr>\n",
       "    <tr>\n",
       "      <th>50%</th>\n",
       "      <td>1.000000</td>\n",
       "      <td>1.000000</td>\n",
       "      <td>0.000000</td>\n",
       "      <td>0.000000</td>\n",
       "      <td>0.000000</td>\n",
       "      <td>1.000000</td>\n",
       "    </tr>\n",
       "    <tr>\n",
       "      <th>75%</th>\n",
       "      <td>1.000000</td>\n",
       "      <td>1.000000</td>\n",
       "      <td>0.000000</td>\n",
       "      <td>0.000000</td>\n",
       "      <td>0.000000</td>\n",
       "      <td>1.000000</td>\n",
       "    </tr>\n",
       "    <tr>\n",
       "      <th>max</th>\n",
       "      <td>1.000000</td>\n",
       "      <td>1.000000</td>\n",
       "      <td>1.000000</td>\n",
       "      <td>1.000000</td>\n",
       "      <td>1.000000</td>\n",
       "      <td>1.000000</td>\n",
       "    </tr>\n",
       "  </tbody>\n",
       "</table>\n",
       "</div>"
      ],
      "text/plain": [
       "             red      white      green     yellow     orange       blue\n",
       "count  11.000000  11.000000  11.000000  11.000000  11.000000  11.000000\n",
       "mean    0.545455   0.636364   0.181818   0.090909   0.181818   0.545455\n",
       "std     0.522233   0.504525   0.404520   0.301511   0.404520   0.522233\n",
       "min     0.000000   0.000000   0.000000   0.000000   0.000000   0.000000\n",
       "25%     0.000000   0.000000   0.000000   0.000000   0.000000   0.000000\n",
       "50%     1.000000   1.000000   0.000000   0.000000   0.000000   1.000000\n",
       "75%     1.000000   1.000000   0.000000   0.000000   0.000000   1.000000\n",
       "max     1.000000   1.000000   1.000000   1.000000   1.000000   1.000000"
      ]
     },
     "execution_count": 5,
     "metadata": {},
     "output_type": "execute_result"
    }
   ],
   "source": [
    "df.describe()"
   ]
  },
  {
   "cell_type": "markdown",
   "id": "03f0cb11",
   "metadata": {},
   "source": [
    "__To find the number of books available in each book category__"
   ]
  },
  {
   "cell_type": "code",
   "execution_count": 6,
   "id": "891872c4",
   "metadata": {},
   "outputs": [
    {
     "name": "stdout",
     "output_type": "stream",
     "text": [
      "\u001b[1m\u001b[34mThe number of phones of each colors are as follows : \n",
      "\u001b[0m\n",
      "\u001b[1m\u001b[34mRed  : \u001b[0m 5 \n",
      "\n",
      "\u001b[1m\u001b[34mWhite : \u001b[0m 4 \n",
      "\n",
      "\u001b[1m\u001b[34mGreen : \u001b[0m 2 \n",
      "\n",
      "\u001b[1m\u001b[34mYellow : \u001b[0m 1 \n",
      "\n",
      "\u001b[1m\u001b[34mOrange : \u001b[0m 2 \n",
      "\n",
      "\u001b[1m\u001b[34mBlue  : \u001b[0m 5 \n",
      "\n"
     ]
    }
   ],
   "source": [
    "cb=pd.DataFrame(df['red'].value_counts())\n",
    "yb=pd.DataFrame(df['white'].value_counts())\n",
    "Cb=pd.DataFrame(df['green'].value_counts())\n",
    "db=pd.DataFrame(df['yellow'].value_counts())\n",
    "rb=pd.DataFrame(df['orange'].value_counts())\n",
    "ab=pd.DataFrame(df['blue'].value_counts())\n",
    "\n",
    "\n",
    "print(colored('The number of phones of each colors are as follows : \\n','blue',attrs=['bold']))\n",
    "print(colored('Red  : ','blue',attrs=['bold']),cb.iat[1,0],'\\n')\n",
    "print(colored('White : ','blue',attrs=['bold']),yb.iat[1,0],'\\n')\n",
    "print(colored('Green : ','blue',attrs=['bold']),Cb.iat[1,0],'\\n')\n",
    "print(colored('Yellow : ','blue',attrs=['bold']),db.iat[1,0],'\\n')\n",
    "print(colored(\"Orange : \",'blue',attrs=['bold']),rb.iat[1,0],'\\n')\n",
    "print(colored('Blue  : ','blue',attrs=['bold']),ab.iat[1,0],'\\n')\n",
    "\n"
   ]
  },
  {
   "cell_type": "markdown",
   "id": "ad1d22f4",
   "metadata": {},
   "source": [
    "__Most Frequent Itemsets based on Support__"
   ]
  },
  {
   "cell_type": "markdown",
   "id": "b80d3dca",
   "metadata": {},
   "source": [
    "Using the mlxtend library to use the apriori algorithm, the minimum support is set to 0.2"
   ]
  },
  {
   "cell_type": "code",
   "execution_count": 7,
   "id": "510e0bcb",
   "metadata": {},
   "outputs": [
    {
     "name": "stderr",
     "output_type": "stream",
     "text": [
      "C:\\Users\\lenny\\anaconda3\\lib\\site-packages\\mlxtend\\frequent_patterns\\fpcommon.py:111: DeprecationWarning: DataFrames with non-bool types result in worse computationalperformance and their support might be discontinued in the future.Please use a DataFrame with bool type\n",
      "  warnings.warn(\n"
     ]
    },
    {
     "data": {
      "text/html": [
       "<div>\n",
       "<style scoped>\n",
       "    .dataframe tbody tr th:only-of-type {\n",
       "        vertical-align: middle;\n",
       "    }\n",
       "\n",
       "    .dataframe tbody tr th {\n",
       "        vertical-align: top;\n",
       "    }\n",
       "\n",
       "    .dataframe thead th {\n",
       "        text-align: right;\n",
       "    }\n",
       "</style>\n",
       "<table border=\"1\" class=\"dataframe\">\n",
       "  <thead>\n",
       "    <tr style=\"text-align: right;\">\n",
       "      <th></th>\n",
       "      <th>support</th>\n",
       "      <th>itemsets</th>\n",
       "    </tr>\n",
       "  </thead>\n",
       "  <tbody>\n",
       "    <tr>\n",
       "      <th>1</th>\n",
       "      <td>0.636364</td>\n",
       "      <td>(white)</td>\n",
       "    </tr>\n",
       "    <tr>\n",
       "      <th>0</th>\n",
       "      <td>0.545455</td>\n",
       "      <td>(red)</td>\n",
       "    </tr>\n",
       "    <tr>\n",
       "      <th>2</th>\n",
       "      <td>0.545455</td>\n",
       "      <td>(blue)</td>\n",
       "    </tr>\n",
       "    <tr>\n",
       "      <th>3</th>\n",
       "      <td>0.363636</td>\n",
       "      <td>(red, white)</td>\n",
       "    </tr>\n",
       "    <tr>\n",
       "      <th>4</th>\n",
       "      <td>0.363636</td>\n",
       "      <td>(blue, red)</td>\n",
       "    </tr>\n",
       "    <tr>\n",
       "      <th>5</th>\n",
       "      <td>0.363636</td>\n",
       "      <td>(blue, white)</td>\n",
       "    </tr>\n",
       "  </tbody>\n",
       "</table>\n",
       "</div>"
      ],
      "text/plain": [
       "    support       itemsets\n",
       "1  0.636364        (white)\n",
       "0  0.545455          (red)\n",
       "2  0.545455         (blue)\n",
       "3  0.363636   (red, white)\n",
       "4  0.363636    (blue, red)\n",
       "5  0.363636  (blue, white)"
      ]
     },
     "execution_count": 7,
     "metadata": {},
     "output_type": "execute_result"
    }
   ],
   "source": [
    "frequent_itemsets= apriori(df,min_support=0.2,max_len=3,use_colnames=True)\n",
    "frequent_itemsets.sort_values('support',ascending=False,inplace=True)\n",
    "frequent_itemsets"
   ]
  },
  {
   "cell_type": "markdown",
   "id": "c181bf66",
   "metadata": {},
   "source": [
    "__Plotting the itemsets with higher support values__"
   ]
  },
  {
   "cell_type": "code",
   "execution_count": 8,
   "id": "c0195079",
   "metadata": {},
   "outputs": [
    {
     "data": {
      "image/png": "[encoded data removed]",
      "text/plain": [
       "<Figure size 1080x504 with 1 Axes>"
      ]
     },
     "metadata": {
      "needs_background": "light"
     },
     "output_type": "display_data"
    }
   ],
   "source": [
    "import matplotlib.pyplot as plt\n",
    "plt.figure(figsize=(15,7))\n",
    "plt.bar(x=list(range(0,3)),height=frequent_itemsets.support[0:3],color=['yellow','crimson','blue'])\n",
    "plt.xticks(list(range(0, 3)), frequent_itemsets.itemsets[0:3], rotation=60)\n",
    "plt.xlabel('item-sets')\n",
    "plt.ylabel('support')\n",
    "plt.show()"
   ]
  },
  {
   "cell_type": "markdown",
   "id": "749ba8fc",
   "metadata": {},
   "source": [
    "Using the association rules from mlxtend to get the support, confidence and lift values. Setting the min value for lift to 1 as anything below that indicates lower chance of it being bought. "
   ]
  },
  {
   "cell_type": "code",
   "execution_count": 9,
   "id": "4d549f8e",
   "metadata": {},
   "outputs": [
    {
     "data": {
      "text/plain": [
       "(6, 9)"
      ]
     },
     "execution_count": 9,
     "metadata": {},
     "output_type": "execute_result"
    }
   ],
   "source": [
    "rules = association_rules(frequent_itemsets, metric = \"lift\", min_threshold = 1)\n",
    "rules.shape"
   ]
  },
  {
   "cell_type": "code",
   "execution_count": 10,
   "id": "409a4fbb",
   "metadata": {},
   "outputs": [
    {
     "data": {
      "text/html": [
       "<div>\n",
       "<style scoped>\n",
       "    .dataframe tbody tr th:only-of-type {\n",
       "        vertical-align: middle;\n",
       "    }\n",
       "\n",
       "    .dataframe tbody tr th {\n",
       "        vertical-align: top;\n",
       "    }\n",
       "\n",
       "    .dataframe thead th {\n",
       "        text-align: right;\n",
       "    }\n",
       "</style>\n",
       "<table border=\"1\" class=\"dataframe\">\n",
       "  <thead>\n",
       "    <tr style=\"text-align: right;\">\n",
       "      <th></th>\n",
       "      <th>index</th>\n",
       "      <th>antecedents</th>\n",
       "      <th>consequents</th>\n",
       "      <th>antecedent support</th>\n",
       "      <th>consequent support</th>\n",
       "      <th>support</th>\n",
       "      <th>confidence</th>\n",
       "      <th>lift</th>\n",
       "      <th>leverage</th>\n",
       "      <th>conviction</th>\n",
       "    </tr>\n",
       "  </thead>\n",
       "  <tbody>\n",
       "    <tr>\n",
       "      <th>0</th>\n",
       "      <td>2</td>\n",
       "      <td>(blue)</td>\n",
       "      <td>(red)</td>\n",
       "      <td>0.545455</td>\n",
       "      <td>0.545455</td>\n",
       "      <td>0.363636</td>\n",
       "      <td>0.666667</td>\n",
       "      <td>1.222222</td>\n",
       "      <td>0.066116</td>\n",
       "      <td>1.363636</td>\n",
       "    </tr>\n",
       "    <tr>\n",
       "      <th>1</th>\n",
       "      <td>3</td>\n",
       "      <td>(red)</td>\n",
       "      <td>(blue)</td>\n",
       "      <td>0.545455</td>\n",
       "      <td>0.545455</td>\n",
       "      <td>0.363636</td>\n",
       "      <td>0.666667</td>\n",
       "      <td>1.222222</td>\n",
       "      <td>0.066116</td>\n",
       "      <td>1.363636</td>\n",
       "    </tr>\n",
       "    <tr>\n",
       "      <th>2</th>\n",
       "      <td>1</td>\n",
       "      <td>(white)</td>\n",
       "      <td>(red)</td>\n",
       "      <td>0.636364</td>\n",
       "      <td>0.545455</td>\n",
       "      <td>0.363636</td>\n",
       "      <td>0.571429</td>\n",
       "      <td>1.047619</td>\n",
       "      <td>0.016529</td>\n",
       "      <td>1.060606</td>\n",
       "    </tr>\n",
       "    <tr>\n",
       "      <th>3</th>\n",
       "      <td>5</td>\n",
       "      <td>(white)</td>\n",
       "      <td>(blue)</td>\n",
       "      <td>0.636364</td>\n",
       "      <td>0.545455</td>\n",
       "      <td>0.363636</td>\n",
       "      <td>0.571429</td>\n",
       "      <td>1.047619</td>\n",
       "      <td>0.016529</td>\n",
       "      <td>1.060606</td>\n",
       "    </tr>\n",
       "    <tr>\n",
       "      <th>4</th>\n",
       "      <td>0</td>\n",
       "      <td>(red)</td>\n",
       "      <td>(white)</td>\n",
       "      <td>0.545455</td>\n",
       "      <td>0.636364</td>\n",
       "      <td>0.363636</td>\n",
       "      <td>0.666667</td>\n",
       "      <td>1.047619</td>\n",
       "      <td>0.016529</td>\n",
       "      <td>1.090909</td>\n",
       "    </tr>\n",
       "    <tr>\n",
       "      <th>5</th>\n",
       "      <td>4</td>\n",
       "      <td>(blue)</td>\n",
       "      <td>(white)</td>\n",
       "      <td>0.545455</td>\n",
       "      <td>0.636364</td>\n",
       "      <td>0.363636</td>\n",
       "      <td>0.666667</td>\n",
       "      <td>1.047619</td>\n",
       "      <td>0.016529</td>\n",
       "      <td>1.090909</td>\n",
       "    </tr>\n",
       "  </tbody>\n",
       "</table>\n",
       "</div>"
      ],
      "text/plain": [
       "   index antecedents consequents  antecedent support  consequent support  \\\n",
       "0      2      (blue)       (red)            0.545455            0.545455   \n",
       "1      3       (red)      (blue)            0.545455            0.545455   \n",
       "2      1     (white)       (red)            0.636364            0.545455   \n",
       "3      5     (white)      (blue)            0.636364            0.545455   \n",
       "4      0       (red)     (white)            0.545455            0.636364   \n",
       "5      4      (blue)     (white)            0.545455            0.636364   \n",
       "\n",
       "    support  confidence      lift  leverage  conviction  \n",
       "0  0.363636    0.666667  1.222222  0.066116    1.363636  \n",
       "1  0.363636    0.666667  1.222222  0.066116    1.363636  \n",
       "2  0.363636    0.571429  1.047619  0.016529    1.060606  \n",
       "3  0.363636    0.571429  1.047619  0.016529    1.060606  \n",
       "4  0.363636    0.666667  1.047619  0.016529    1.090909  \n",
       "5  0.363636    0.666667  1.047619  0.016529    1.090909  "
      ]
     },
     "execution_count": 10,
     "metadata": {},
     "output_type": "execute_result"
    }
   ],
   "source": [
    "rules=rules.sort_values('lift',ascending=False)\n",
    "rules=rules.reset_index()\n",
    "rules.head(10)"
   ]
  },
  {
   "cell_type": "markdown",
   "id": "7f304fed",
   "metadata": {},
   "source": [
    "#### Profusion Removal\n",
    "from the above table its clear that there are many duplicates so following the below steps to remove the duplicates. "
   ]
  },
  {
   "cell_type": "code",
   "execution_count": 11,
   "id": "f7d9fdad",
   "metadata": {},
   "outputs": [
    {
     "data": {
      "text/html": [
       "<div>\n",
       "<style scoped>\n",
       "    .dataframe tbody tr th:only-of-type {\n",
       "        vertical-align: middle;\n",
       "    }\n",
       "\n",
       "    .dataframe tbody tr th {\n",
       "        vertical-align: top;\n",
       "    }\n",
       "\n",
       "    .dataframe thead th {\n",
       "        text-align: right;\n",
       "    }\n",
       "</style>\n",
       "<table border=\"1\" class=\"dataframe\">\n",
       "  <thead>\n",
       "    <tr style=\"text-align: right;\">\n",
       "      <th></th>\n",
       "      <th>index</th>\n",
       "      <th>antecedents</th>\n",
       "      <th>consequents</th>\n",
       "      <th>antecedent support</th>\n",
       "      <th>consequent support</th>\n",
       "      <th>support</th>\n",
       "      <th>confidence</th>\n",
       "      <th>lift</th>\n",
       "      <th>leverage</th>\n",
       "      <th>conviction</th>\n",
       "    </tr>\n",
       "  </thead>\n",
       "  <tbody>\n",
       "    <tr>\n",
       "      <th>0</th>\n",
       "      <td>2</td>\n",
       "      <td>(blue)</td>\n",
       "      <td>(red)</td>\n",
       "      <td>0.545455</td>\n",
       "      <td>0.545455</td>\n",
       "      <td>0.363636</td>\n",
       "      <td>0.666667</td>\n",
       "      <td>1.222222</td>\n",
       "      <td>0.066116</td>\n",
       "      <td>1.363636</td>\n",
       "    </tr>\n",
       "    <tr>\n",
       "      <th>3</th>\n",
       "      <td>5</td>\n",
       "      <td>(white)</td>\n",
       "      <td>(blue)</td>\n",
       "      <td>0.636364</td>\n",
       "      <td>0.545455</td>\n",
       "      <td>0.363636</td>\n",
       "      <td>0.571429</td>\n",
       "      <td>1.047619</td>\n",
       "      <td>0.016529</td>\n",
       "      <td>1.060606</td>\n",
       "    </tr>\n",
       "    <tr>\n",
       "      <th>2</th>\n",
       "      <td>1</td>\n",
       "      <td>(white)</td>\n",
       "      <td>(red)</td>\n",
       "      <td>0.636364</td>\n",
       "      <td>0.545455</td>\n",
       "      <td>0.363636</td>\n",
       "      <td>0.571429</td>\n",
       "      <td>1.047619</td>\n",
       "      <td>0.016529</td>\n",
       "      <td>1.060606</td>\n",
       "    </tr>\n",
       "  </tbody>\n",
       "</table>\n",
       "</div>"
      ],
      "text/plain": [
       "   index antecedents consequents  antecedent support  consequent support  \\\n",
       "0      2      (blue)       (red)            0.545455            0.545455   \n",
       "3      5     (white)      (blue)            0.636364            0.545455   \n",
       "2      1     (white)       (red)            0.636364            0.545455   \n",
       "\n",
       "    support  confidence      lift  leverage  conviction  \n",
       "0  0.363636    0.666667  1.222222  0.066116    1.363636  \n",
       "3  0.363636    0.571429  1.047619  0.016529    1.060606  \n",
       "2  0.363636    0.571429  1.047619  0.016529    1.060606  "
      ]
     },
     "execution_count": 11,
     "metadata": {},
     "output_type": "execute_result"
    }
   ],
   "source": [
    "#Using a custom function which returns a list.\n",
    "def to_list(i):\n",
    "    return (list(i))\n",
    "#The antecedents and consequents are separately added to a list and concatenated creating a series. \n",
    "ma_X = rules.antecedents.apply(to_list) + rules.consequents.apply(to_list)\n",
    "#The series is then sorted in alphabetical order.\n",
    "ma_X = ma_X.apply(sorted)\n",
    "#The series is then saved to rules_sets as a list. \n",
    "rules_sets = list(ma_X)\n",
    "#To eliminate the duplicates the list is then converted into a tuple and then again converted to a list.\n",
    "unique_rules_sets = [list(m) for m in set(tuple(i) for i in rules_sets)]\n",
    "#Creating a empty list\n",
    "index_rules = []\n",
    "#storing the index number of the remaining itemsets in index_rules.\n",
    "for i in unique_rules_sets:\n",
    "    index_rules.append(rules_sets.index(i))\n",
    "\n",
    "# getting rules without any redudancy/profusion\n",
    "rules_no_redudancy = rules.iloc[index_rules, :]\n",
    "\n",
    "# Sorting them with respect to list and getting top 10 rules \n",
    "rules_no_redudancy.sort_values('lift', ascending = False).head(10)"
   ]
  },
  {
   "cell_type": "markdown",
   "id": "a43a83d4",
   "metadata": {},
   "source": [
    "Networkx is used to build a network graph to check the association of antecendents and consequents obtained after association rules."
   ]
  },
  {
   "cell_type": "code",
   "execution_count": 12,
   "id": "a58f6cf8",
   "metadata": {},
   "outputs": [
    {
     "data": {
      "image/png": "[encoded data removed]",
      "text/plain": [
       "<Figure size 1080x504 with 1 Axes>"
      ]
     },
     "metadata": {},
     "output_type": "display_data"
    }
   ],
   "source": [
    "import networkx as nx\n",
    "fig, ax=plt.subplots(figsize=(15,7))\n",
    "GA=nx.from_pandas_edgelist(rules_no_redudancy[0:10],source='antecedents',target='consequents')\n",
    "nx.draw(GA,with_labels=True)\n",
    "plt.show()"
   ]
  },
  {
   "cell_type": "markdown",
   "id": "5644b4dd",
   "metadata": {},
   "source": [
    "## CONCLUSION\n",
    "* The chances of buying red, blue, white colored phones is higher than the other colors.\n",
    "* If any one of red, blue, white colored phones is bought then the chance othe any other of the same group of colored phones is high. \n",
    "* So if phones of red , blue and white are place alongside then the chance of them being bought is higher."
   ]
  },
  {
   "cell_type": "code",
   "execution_count": null,
   "id": "55965c1b",
   "metadata": {},
   "outputs": [],
   "source": []
  }
 ],
 "metadata": {
  "kernelspec": {
   "display_name": "Python 3 (ipykernel)",
   "language": "python",
   "name": "python3"
  },
  "language_info": {
   "codemirror_mode": {
    "name": "ipython",
    "version": 3
   },
   "file_extension": ".py",
   "mimetype": "text/x-python",
   "name": "python",
   "nbconvert_exporter": "python",
   "pygments_lexer": "ipython3",
   "version": "3.9.12"
  }
 },
 "nbformat": 4,
 "nbformat_minor": 5
}
